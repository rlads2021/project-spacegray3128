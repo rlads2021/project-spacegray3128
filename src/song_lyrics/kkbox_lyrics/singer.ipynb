{
 "cells": [
  {
   "cell_type": "code",
   "execution_count": 64,
   "id": "framed-correlation",
   "metadata": {},
   "outputs": [
    {
     "name": "stdout",
     "output_type": "stream",
     "text": [
      "['https://www.kkbox.com/tw/tc/song/uh200LOYH83XK033XK0330XL-index.html', 'https://www.kkbox.com/tw/tc/song/W4441wU06XHC1Q8f.Q8f.0P4-index.html', 'https://www.kkbox.com/tw/tc/song/iRi00D9E4C3KomtjKomtj0XL-index.html', 'https://www.kkbox.com/tw/tc/song/nKtqoss009.M510pl10pl0P4-index.html', 'https://www.kkbox.com/tw/tc/song/wr6HX17T6WK2q8vy2q8vy0PL-index.html', 'https://www.kkbox.com/tw/tc/song/0tJlPUi08XHC1Xkx.Xkx.0P4-index.html', 'https://www.kkbox.com/tw/tc/song/ncS00EH4H8INJy8gNJy8g0XL-index.html', 'https://www.kkbox.com/tw/tc/song/U6siM0mT6WK1wuoy1wuoy0PL-index.html', 'https://www.kkbox.com/tw/tc/song/diP00.sLX03uKuVfuKuVf0XL-index.html', 'https://www.kkbox.com/tw/tc/song/KHhXQrX00H.M51lel1lel0P4-index.html', 'https://www.kkbox.com/tw/tc/song/Hqf00HdE4C3RyZljRyZlj0XL-index.html', 'https://www.kkbox.com/tw/tc/song/LwsOu1XI8CK3eZmu3eZmu0PL-index.html', 'https://www.kkbox.com/tw/tc/song/WZ-j123T6WK4zTzy4zTzy0PL-index.html', 'https://www.kkbox.com/tw/tc/song/lzrEb3r0t005.M5cRHcRH0On-index.html', 'https://www.kkbox.com/tw/tc/song/PQgv10NT6WK13ghy13ghy0PL-index.html', 'https://www.kkbox.com/tw/tc/song/5Wq008dE4C3Df21jDf21j0XL-index.html', 'https://www.kkbox.com/tw/tc/song/rlc00W9E4C3kFZ.jkFZ.j0XL-index.html', 'https://www.kkbox.com/tw/tc/song/AJ800KPE4C3UxInjUxInj0XL-index.html', 'https://www.kkbox.com/tw/tc/song/rVX-mSO00E25d1TJP1TJP0P4-index.html', 'https://www.kkbox.com/tw/tc/song/6Yh00Y1YGLMo-9Jwo-9Jw0XL-index.html']\n"
     ]
    }
   ],
   "source": [
    "from bs4 import BeautifulSoup\n",
    "import requests\n",
    "import json\n",
    "\n",
    "singer = requests.get('https://www.kkbox.com/tw/tc/charts/artist_song_charts-oiUmCge9WONO2zyWC0F0E08H.html')\n",
    "soup = BeautifulSoup(singer.text, 'html.parser')\n",
    "songs = soup.find_all('a', class_=\"song-title\")\n",
    "name = soup.find('div', class_=\"song-artist-album\").a.string\n",
    "links = []\n",
    "names = []\n",
    "for song in songs[0:20]:\n",
    "    link = \"https://www.kkbox.com\" + song[\"href\"]\n",
    "    links.append(link)\n",
    "    names.append(name)\n",
    "print(links)"
   ]
  },
  {
   "cell_type": "code",
   "execution_count": 65,
   "id": "least-population",
   "metadata": {},
   "outputs": [],
   "source": [
    "fn2 = \"./singer/aMEI.csv\"\n",
    "fh2 = open(fn2, \"w\", encoding = \"utf-8\")\n",
    "fh2.write(\"歌手\" + \",\" + \"連結\" + \",\" + \"歌詞\" + \"\\n\")\n",
    "\n",
    "for i in range(20):\n",
    "  fh2.write(\"張惠妹\" + \",\" + links[i] + \",\" + \"\\n\")\n",
    "\n",
    "fh2.close()"
   ]
  }
 ],
 "metadata": {
  "kernelspec": {
   "display_name": "Python 3",
   "language": "python",
   "name": "python3"
  },
  "language_info": {
   "codemirror_mode": {
    "name": "ipython",
    "version": 3
   },
   "file_extension": ".py",
   "mimetype": "text/x-python",
   "name": "python",
   "nbconvert_exporter": "python",
   "pygments_lexer": "ipython3",
   "version": "3.8.5"
  }
 },
 "nbformat": 4,
 "nbformat_minor": 5
}
